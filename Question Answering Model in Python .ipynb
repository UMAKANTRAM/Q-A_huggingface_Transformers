{
 "cells": [
  {
   "cell_type": "code",
   "execution_count": 2,
   "id": "9be9d664",
   "metadata": {},
   "outputs": [],
   "source": [
    "from transformers import AutoModelForQuestionAnswering, AutoTokenizer, pipeline"
   ]
  },
  {
   "cell_type": "code",
   "execution_count": 3,
   "id": "140c6ef6",
   "metadata": {},
   "outputs": [],
   "source": [
    "model_name = \"deepset/roberta-base-squad2\""
   ]
  },
  {
   "cell_type": "code",
   "execution_count": 4,
   "id": "8ef38f90",
   "metadata": {},
   "outputs": [],
   "source": [
    "# Load model & tokenizer\n",
    "model = AutoModelForQuestionAnswering.from_pretrained(model_name)\n",
    "tokenizer = AutoTokenizer.from_pretrained(model_name)"
   ]
  },
  {
   "cell_type": "code",
   "execution_count": 5,
   "id": "f0ea0467",
   "metadata": {},
   "outputs": [],
   "source": [
    "# Create a question-answering pipeline\n",
    "nlp = pipeline('question-answering', model=model, tokenizer=tokenizer)\n",
    "\n",
    "context = \"Sachin Tendulkar, often referred to as the 'God of Cricket',\" \\\n",
    "          \" is a legendary figure in the world of sports. Born on April 24, \" \\\n",
    "          \"1973, in Mumbai, India, Tendulkar's name is synonymous with excellence \" \\\n",
    "          \"and mastery in the game of cricket. His remarkable career spanned 24 years, \" \\\n",
    "          \"during which he set numerous records and achieved unparalleled success.\"\n"
   ]
  },
  {
   "cell_type": "code",
   "execution_count": 6,
   "id": "c1ef9fcb",
   "metadata": {},
   "outputs": [
    {
     "name": "stdout",
     "output_type": "stream",
     "text": [
      "Ask a question (or press 'q' to quit): where he is born\n",
      "{'score': 0.6507877111434937, 'start': 134, 'end': 147, 'answer': 'Mumbai, India'}\n",
      "Answer: Mumbai, India\n",
      "Ask a question (or press 'q' to quit): he refered as \n",
      "{'score': 0.15260668098926544, 'start': 44, 'end': 58, 'answer': 'God of Cricket'}\n",
      "Answer: God of Cricket\n",
      "Ask a question (or press 'q' to quit): date of born\n",
      "{'score': 0.9676638245582581, 'start': 115, 'end': 129, 'answer': 'April 24, 1973'}\n",
      "Answer: April 24, 1973\n",
      "Ask a question (or press 'q' to quit): q\n"
     ]
    }
   ],
   "source": [
    "while True:\n",
    "    user_input = input(\"Ask a question (or press 'q' to quit): \")\n",
    "\n",
    "    if user_input.lower() == 'q':\n",
    "        break\n",
    "\n",
    "    QA_input = {\n",
    "        'question': user_input,\n",
    "        'context': context\n",
    "    }\n",
    "\n",
    "    res = nlp(QA_input)\n",
    "    print(res)\n",
    "\n",
    "    print(f\"Answer: {res['answer']}\")"
   ]
  }
 ],
 "metadata": {
  "kernelspec": {
   "display_name": "Python 3 (ipykernel)",
   "language": "python",
   "name": "python3"
  },
  "language_info": {
   "codemirror_mode": {
    "name": "ipython",
    "version": 3
   },
   "file_extension": ".py",
   "mimetype": "text/x-python",
   "name": "python",
   "nbconvert_exporter": "python",
   "pygments_lexer": "ipython3",
   "version": "3.9.12"
  }
 },
 "nbformat": 4,
 "nbformat_minor": 5
}
